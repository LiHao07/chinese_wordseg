{
 "cells": [
  {
   "cell_type": "code",
   "execution_count": 1,
   "metadata": {},
   "outputs": [],
   "source": [
    "with open('sgns.sogou.word') as f:\n",
    "    file = f.readlines()\n",
    "    "
   ]
  },
  {
   "cell_type": "code",
   "execution_count": 2,
   "metadata": {},
   "outputs": [
    {
     "name": "stdout",
     "output_type": "stream",
     "text": [
      "364993\n"
     ]
    }
   ],
   "source": [
    "word2idx = {}\n",
    "idx2word = {}\n",
    "word2idx['PAD'] = 0\n",
    "word2idx['UNK'] = 1\n",
    "word2idx['EOS'] = 2\n",
    "idx2word[0] = 'PAD'\n",
    "idx2word[1] = 'UNK'\n",
    "idx2word[2] = 'EOS'\n",
    "idx=3\n",
    "\n",
    "w2v_weight = []\n",
    "\n",
    "for line in file[1:]:\n",
    "    tmp = line.split()\n",
    "    word2idx[tmp[0]] = idx\n",
    "    idx2word[idx] = tmp[0]\n",
    "    idx += 1\n",
    "    tmp = tmp[1:]\n",
    "    tmp = list(map(float, tmp))\n",
    "    w2v_weight.append(tmp)\n",
    "print(idx)\n"
   ]
  },
  {
   "cell_type": "code",
   "execution_count": 3,
   "metadata": {},
   "outputs": [
    {
     "name": "stdout",
     "output_type": "stream",
     "text": [
      "364183\n"
     ]
    }
   ],
   "source": [
    "print(len(word2idx.keys()))"
   ]
  },
  {
   "cell_type": "code",
   "execution_count": 5,
   "metadata": {},
   "outputs": [
    {
     "name": "stdout",
     "output_type": "stream",
     "text": [
      "，\n"
     ]
    }
   ],
   "source": [
    "print(idx2word[3])"
   ]
  },
  {
   "cell_type": "code",
   "execution_count": 31,
   "metadata": {},
   "outputs": [],
   "source": [
    "import numpy as np\n",
    "w2v_weight = np.array(w2v_weight)"
   ]
  },
  {
   "cell_type": "code",
   "execution_count": 32,
   "metadata": {},
   "outputs": [
    {
     "name": "stdout",
     "output_type": "stream",
     "text": [
      "(364990, 300)\n"
     ]
    }
   ],
   "source": [
    "print(w2v_weight.shape)"
   ]
  },
  {
   "cell_type": "code",
   "execution_count": 33,
   "metadata": {},
   "outputs": [],
   "source": [
    "np.save('w2v_weight_sogou.word2.npy', w2v_weight)\n"
   ]
  },
  {
   "cell_type": "code",
   "execution_count": 34,
   "metadata": {},
   "outputs": [],
   "source": [
    "import json\n",
    "import codecs\n",
    "with codecs.open('word2idx_sogou.word.json','a', 'utf-8') as outf:\n",
    "    json.dump(word2idx, outf, ensure_ascii=False)\n",
    "    outf.write('\\n')\n",
    "with codecs.open('idx2word_sogou.word.json','a', 'utf-8') as outf:\n",
    "    json.dump(idx2word, outf, ensure_ascii=False)\n",
    "    outf.write('\\n')"
   ]
  },
  {
   "cell_type": "code",
   "execution_count": null,
   "metadata": {},
   "outputs": [],
   "source": []
  }
 ],
 "metadata": {
  "kernelspec": {
   "display_name": "Python 3",
   "language": "python",
   "name": "python3"
  },
  "language_info": {
   "codemirror_mode": {
    "name": "ipython",
    "version": 3
   },
   "file_extension": ".py",
   "mimetype": "text/x-python",
   "name": "python",
   "nbconvert_exporter": "python",
   "pygments_lexer": "ipython3",
   "version": "3.6.0"
  }
 },
 "nbformat": 4,
 "nbformat_minor": 2
}
